{
 "cells": [
  {
   "cell_type": "code",
   "execution_count": 48,
   "id": "d6462714-d71e-4f27-babf-50586f88f6cd",
   "metadata": {},
   "outputs": [],
   "source": [
    "import joblib\n",
    "from tensorflow.keras.models import load_model"
   ]
  },
  {
   "cell_type": "code",
   "execution_count": 49,
   "id": "8d0479ef-dd61-4e77-b042-a6e9a2ee3174",
   "metadata": {},
   "outputs": [],
   "source": [
    "vect = joblib.load('Model/tfidf_vectorizer.pkl')\n",
    "model = load_model('Model/toxic_comment_model.h5')"
   ]
  },
  {
   "cell_type": "code",
   "execution_count": 53,
   "id": "9ee307ae-63f6-4990-9034-a93a106e419c",
   "metadata": {},
   "outputs": [],
   "source": [
    "# Add comments here\n",
    "comments = [\n",
    "    \"You are so beautiful\",\n",
    "    \"You need to start doing more videos\",\n",
    "    \"Go and get a gym membership, you are so fat!\"\n",
    "     \n",
    " ]\n"
   ]
  },
  {
   "cell_type": "code",
   "execution_count": 54,
   "id": "af8790af-624c-4f59-9166-4aec474ee428",
   "metadata": {},
   "outputs": [
    {
     "name": "stdout",
     "output_type": "stream",
     "text": [
      "1/1 [==============================] - 0s 13ms/step\n",
      "Comment: You are so beautiful | Toxic: False\n",
      "Comment: You need to start doing more videos | Toxic: False\n",
      "Comment: Go and get a gym membership, you are so fat! | Toxic: True\n"
     ]
    }
   ],
   "source": [
    " # Preprocess new comments using the loaded TF-IDF Vectorizer\n",
    "vectorized_comments = vect.transform(comments)\n",
    "\n",
    " # Predict using the loaded model\n",
    " predictions = (model.predict(vectorized_comments.toarray()) > 0.5).astype(int)\n",
    "\n",
    " # Print predictions\n",
    " for comment, prediction in zip(comments, predictions):\n",
    "     print(f'Comment: {comment} | Toxic: {bool(prediction)}')"
   ]
  },
  {
   "cell_type": "code",
   "execution_count": 55,
   "id": "77134f34-3345-4a80-ac53-b44dc6769be1",
   "metadata": {},
   "outputs": [
    {
     "name": "stdout",
     "output_type": "stream",
     "text": [
      "1/1 [==============================] - 0s 12ms/step\n"
     ]
    },
    {
     "data": {
      "text/plain": [
       "array([[0.20390876],\n",
       "       [0.03616752],\n",
       "       [0.52007705]], dtype=float32)"
      ]
     },
     "execution_count": 55,
     "metadata": {},
     "output_type": "execute_result"
    }
   ],
   "source": [
    "model.predict(vectorized_comments.toarray())"
   ]
  },
  {
   "cell_type": "code",
   "execution_count": null,
   "id": "4e94bff0-d445-4eec-87a1-02cce6917db3",
   "metadata": {},
   "outputs": [],
   "source": []
  }
 ],
 "metadata": {
  "kernelspec": {
   "display_name": "Python 3 (ipykernel)",
   "language": "python",
   "name": "python3"
  },
  "language_info": {
   "codemirror_mode": {
    "name": "ipython",
    "version": 3
   },
   "file_extension": ".py",
   "mimetype": "text/x-python",
   "name": "python",
   "nbconvert_exporter": "python",
   "pygments_lexer": "ipython3",
   "version": "3.8.19"
  }
 },
 "nbformat": 4,
 "nbformat_minor": 5
}
