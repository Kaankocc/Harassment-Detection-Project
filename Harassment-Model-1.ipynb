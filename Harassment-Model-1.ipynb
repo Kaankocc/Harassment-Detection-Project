{
 "cells": [
  {
   "cell_type": "markdown",
   "id": "55ba43df-e08e-4b86-9c02-899c557b934c",
   "metadata": {},
   "source": [
    "# Harassment Detection Model Project #"
   ]
  },
  {
   "cell_type": "markdown",
   "id": "d2af73ad-02bb-46dd-aaa9-641280ce9f39",
   "metadata": {},
   "source": [
    "# 1. Preparing The Tools ##"
   ]
  },
  {
   "cell_type": "code",
   "execution_count": 1,
   "id": "8bda0362-c9d6-4345-8f84-b80512649de0",
   "metadata": {},
   "outputs": [],
   "source": [
    "import tensorflow as tf\n",
    "import numpy as np\n",
    "import pandas as pd\n",
    "import matplotlib.pyplot as plt\n",
    "from sklearn.model_selection import train_test_split\n",
    "from tensorflow.keras.preprocessing.text import Tokenizer\n",
    "from tensorflow.keras.preprocessing.sequence import pad_sequences\n",
    "from tensorflow.keras.callbacks import EarlyStopping\n",
    "from tensorflow.keras.layers import Embedding, Bidirectional, LSTM, Dense, Dropout\n",
    "from tensorflow.keras.layers import BatchNormalization\n",
    "from tensorflow.keras.regularizers import l2\n",
    "import random\n",
    "\n",
    "seed_value = 42\n",
    "tf.random.set_seed(seed_value)\n",
    "np.random.seed(seed_value)\n",
    "random.seed(seed_value)"
   ]
  },
  {
   "cell_type": "markdown",
   "id": "608f7e8b-b7fa-44d8-888c-1a35b44fc04c",
   "metadata": {},
   "source": [
    "## 2. Load the Dataset ##"
   ]
  },
  {
   "cell_type": "code",
   "execution_count": 2,
   "id": "636e2c61-5132-4299-905c-e04e16a7e3c2",
   "metadata": {},
   "outputs": [
    {
     "data": {
      "text/html": [
       "<div>\n",
       "<style scoped>\n",
       "    .dataframe tbody tr th:only-of-type {\n",
       "        vertical-align: middle;\n",
       "    }\n",
       "\n",
       "    .dataframe tbody tr th {\n",
       "        vertical-align: top;\n",
       "    }\n",
       "\n",
       "    .dataframe thead th {\n",
       "        text-align: right;\n",
       "    }\n",
       "</style>\n",
       "<table border=\"1\" class=\"dataframe\">\n",
       "  <thead>\n",
       "    <tr style=\"text-align: right;\">\n",
       "      <th></th>\n",
       "      <th>CommentId</th>\n",
       "      <th>VideoId</th>\n",
       "      <th>Text</th>\n",
       "      <th>IsToxic</th>\n",
       "      <th>IsAbusive</th>\n",
       "      <th>IsThreat</th>\n",
       "      <th>IsProvocative</th>\n",
       "      <th>IsObscene</th>\n",
       "      <th>IsHatespeech</th>\n",
       "      <th>IsRacist</th>\n",
       "      <th>IsNationalist</th>\n",
       "      <th>IsSexist</th>\n",
       "      <th>IsHomophobic</th>\n",
       "      <th>IsReligiousHate</th>\n",
       "      <th>IsRadicalism</th>\n",
       "    </tr>\n",
       "  </thead>\n",
       "  <tbody>\n",
       "    <tr>\n",
       "      <th>0</th>\n",
       "      <td>Ugg2KwwX0V8-aXgCoAEC</td>\n",
       "      <td>04kJtp6pVXI</td>\n",
       "      <td>If only people would just take a step back and...</td>\n",
       "      <td>False</td>\n",
       "      <td>False</td>\n",
       "      <td>False</td>\n",
       "      <td>False</td>\n",
       "      <td>False</td>\n",
       "      <td>False</td>\n",
       "      <td>False</td>\n",
       "      <td>False</td>\n",
       "      <td>False</td>\n",
       "      <td>False</td>\n",
       "      <td>False</td>\n",
       "      <td>False</td>\n",
       "    </tr>\n",
       "    <tr>\n",
       "      <th>1</th>\n",
       "      <td>Ugg2s5AzSPioEXgCoAEC</td>\n",
       "      <td>04kJtp6pVXI</td>\n",
       "      <td>Law enforcement is not trained to shoot to app...</td>\n",
       "      <td>True</td>\n",
       "      <td>True</td>\n",
       "      <td>False</td>\n",
       "      <td>False</td>\n",
       "      <td>False</td>\n",
       "      <td>False</td>\n",
       "      <td>False</td>\n",
       "      <td>False</td>\n",
       "      <td>False</td>\n",
       "      <td>False</td>\n",
       "      <td>False</td>\n",
       "      <td>False</td>\n",
       "    </tr>\n",
       "    <tr>\n",
       "      <th>2</th>\n",
       "      <td>Ugg3dWTOxryFfHgCoAEC</td>\n",
       "      <td>04kJtp6pVXI</td>\n",
       "      <td>\\nDont you reckon them 'black lives matter' ba...</td>\n",
       "      <td>True</td>\n",
       "      <td>True</td>\n",
       "      <td>False</td>\n",
       "      <td>False</td>\n",
       "      <td>True</td>\n",
       "      <td>False</td>\n",
       "      <td>False</td>\n",
       "      <td>False</td>\n",
       "      <td>False</td>\n",
       "      <td>False</td>\n",
       "      <td>False</td>\n",
       "      <td>False</td>\n",
       "    </tr>\n",
       "    <tr>\n",
       "      <th>3</th>\n",
       "      <td>Ugg7Gd006w1MPngCoAEC</td>\n",
       "      <td>04kJtp6pVXI</td>\n",
       "      <td>There are a very large number of people who do...</td>\n",
       "      <td>False</td>\n",
       "      <td>False</td>\n",
       "      <td>False</td>\n",
       "      <td>False</td>\n",
       "      <td>False</td>\n",
       "      <td>False</td>\n",
       "      <td>False</td>\n",
       "      <td>False</td>\n",
       "      <td>False</td>\n",
       "      <td>False</td>\n",
       "      <td>False</td>\n",
       "      <td>False</td>\n",
       "    </tr>\n",
       "    <tr>\n",
       "      <th>4</th>\n",
       "      <td>Ugg8FfTbbNF8IngCoAEC</td>\n",
       "      <td>04kJtp6pVXI</td>\n",
       "      <td>The Arab dude is absolutely right, he should h...</td>\n",
       "      <td>False</td>\n",
       "      <td>False</td>\n",
       "      <td>False</td>\n",
       "      <td>False</td>\n",
       "      <td>False</td>\n",
       "      <td>False</td>\n",
       "      <td>False</td>\n",
       "      <td>False</td>\n",
       "      <td>False</td>\n",
       "      <td>False</td>\n",
       "      <td>False</td>\n",
       "      <td>False</td>\n",
       "    </tr>\n",
       "  </tbody>\n",
       "</table>\n",
       "</div>"
      ],
      "text/plain": [
       "              CommentId      VideoId  \\\n",
       "0  Ugg2KwwX0V8-aXgCoAEC  04kJtp6pVXI   \n",
       "1  Ugg2s5AzSPioEXgCoAEC  04kJtp6pVXI   \n",
       "2  Ugg3dWTOxryFfHgCoAEC  04kJtp6pVXI   \n",
       "3  Ugg7Gd006w1MPngCoAEC  04kJtp6pVXI   \n",
       "4  Ugg8FfTbbNF8IngCoAEC  04kJtp6pVXI   \n",
       "\n",
       "                                                Text  IsToxic  IsAbusive  \\\n",
       "0  If only people would just take a step back and...    False      False   \n",
       "1  Law enforcement is not trained to shoot to app...     True       True   \n",
       "2  \\nDont you reckon them 'black lives matter' ba...     True       True   \n",
       "3  There are a very large number of people who do...    False      False   \n",
       "4  The Arab dude is absolutely right, he should h...    False      False   \n",
       "\n",
       "   IsThreat  IsProvocative  IsObscene  IsHatespeech  IsRacist  IsNationalist  \\\n",
       "0     False          False      False         False     False          False   \n",
       "1     False          False      False         False     False          False   \n",
       "2     False          False       True         False     False          False   \n",
       "3     False          False      False         False     False          False   \n",
       "4     False          False      False         False     False          False   \n",
       "\n",
       "   IsSexist  IsHomophobic  IsReligiousHate  IsRadicalism  \n",
       "0     False         False            False         False  \n",
       "1     False         False            False         False  \n",
       "2     False         False            False         False  \n",
       "3     False         False            False         False  \n",
       "4     False         False            False         False  "
      ]
     },
     "execution_count": 2,
     "metadata": {},
     "output_type": "execute_result"
    }
   ],
   "source": [
    "data = pd.read_csv(\"youtoxic_english_1000.csv\")\n",
    "data.head()"
   ]
  },
  {
   "cell_type": "code",
   "execution_count": 3,
   "id": "2925df07-1ef5-4c6a-81bd-fe5fb553e4ee",
   "metadata": {},
   "outputs": [],
   "source": [
    "columns_to_keep = ['Text', 'IsToxic']"
   ]
  },
  {
   "cell_type": "code",
   "execution_count": 4,
   "id": "461a2639-a75b-48e9-8ade-ffe89709dfcc",
   "metadata": {},
   "outputs": [],
   "source": [
    "adjusted_data = data[columns_to_keep].copy()"
   ]
  },
  {
   "cell_type": "code",
   "execution_count": 5,
   "id": "e7de0859-4299-402e-aa32-78ec13817045",
   "metadata": {},
   "outputs": [
    {
     "data": {
      "text/plain": [
       "IsToxic\n",
       "False    538\n",
       "True     462\n",
       "Name: count, dtype: int64"
      ]
     },
     "execution_count": 5,
     "metadata": {},
     "output_type": "execute_result"
    }
   ],
   "source": [
    "adjusted_data['IsToxic'].value_counts()"
   ]
  },
  {
   "cell_type": "code",
   "execution_count": 6,
   "id": "6741c84f-6cce-424c-a686-0bc860814c9c",
   "metadata": {},
   "outputs": [],
   "source": [
    "adjusted_data['IsToxic']=adjusted_data['IsToxic'].astype(int)"
   ]
  },
  {
   "cell_type": "code",
   "execution_count": 7,
   "id": "d4fca428-ec87-43f7-a980-3e87d531a3a7",
   "metadata": {},
   "outputs": [
    {
     "data": {
      "text/html": [
       "<div>\n",
       "<style scoped>\n",
       "    .dataframe tbody tr th:only-of-type {\n",
       "        vertical-align: middle;\n",
       "    }\n",
       "\n",
       "    .dataframe tbody tr th {\n",
       "        vertical-align: top;\n",
       "    }\n",
       "\n",
       "    .dataframe thead th {\n",
       "        text-align: right;\n",
       "    }\n",
       "</style>\n",
       "<table border=\"1\" class=\"dataframe\">\n",
       "  <thead>\n",
       "    <tr style=\"text-align: right;\">\n",
       "      <th></th>\n",
       "      <th>Text</th>\n",
       "      <th>IsToxic</th>\n",
       "    </tr>\n",
       "  </thead>\n",
       "  <tbody>\n",
       "    <tr>\n",
       "      <th>0</th>\n",
       "      <td>If only people would just take a step back and...</td>\n",
       "      <td>0</td>\n",
       "    </tr>\n",
       "    <tr>\n",
       "      <th>1</th>\n",
       "      <td>Law enforcement is not trained to shoot to app...</td>\n",
       "      <td>1</td>\n",
       "    </tr>\n",
       "    <tr>\n",
       "      <th>2</th>\n",
       "      <td>\\nDont you reckon them 'black lives matter' ba...</td>\n",
       "      <td>1</td>\n",
       "    </tr>\n",
       "    <tr>\n",
       "      <th>3</th>\n",
       "      <td>There are a very large number of people who do...</td>\n",
       "      <td>0</td>\n",
       "    </tr>\n",
       "    <tr>\n",
       "      <th>4</th>\n",
       "      <td>The Arab dude is absolutely right, he should h...</td>\n",
       "      <td>0</td>\n",
       "    </tr>\n",
       "  </tbody>\n",
       "</table>\n",
       "</div>"
      ],
      "text/plain": [
       "                                                Text  IsToxic\n",
       "0  If only people would just take a step back and...        0\n",
       "1  Law enforcement is not trained to shoot to app...        1\n",
       "2  \\nDont you reckon them 'black lives matter' ba...        1\n",
       "3  There are a very large number of people who do...        0\n",
       "4  The Arab dude is absolutely right, he should h...        0"
      ]
     },
     "execution_count": 7,
     "metadata": {},
     "output_type": "execute_result"
    }
   ],
   "source": [
    "adjusted_data.head()"
   ]
  },
  {
   "cell_type": "code",
   "execution_count": 8,
   "id": "dcf3bb0c-27a0-437e-ad57-be5618d1bff9",
   "metadata": {},
   "outputs": [],
   "source": [
    "value_counts = adjusted_data['IsToxic'].value_counts()"
   ]
  },
  {
   "cell_type": "code",
   "execution_count": 9,
   "id": "c5e06d3b-8922-441d-8eb7-8092b4e9eb9b",
   "metadata": {},
   "outputs": [
    {
     "data": {
      "image/png": "[encoded data removed]",
      "text/plain": [
       "<Figure size 640x480 with 1 Axes>"
      ]
     },
     "metadata": {},
     "output_type": "display_data"
    }
   ],
   "source": [
    "plt.bar(value_counts.index.astype(str), value_counts.values)\n",
    "plt.xlabel('IsToxic')\n",
    "plt.ylabel('Count')\n",
    "plt.title('Histogram of IsToxic')\n",
    "plt.show()"
   ]
  },
  {
   "cell_type": "markdown",
   "id": "ba17780e-2b12-44b0-bc9b-478eb1d2d115",
   "metadata": {},
   "source": [
    "## 5. Modelling ##"
   ]
  },
  {
   "cell_type": "code",
   "execution_count": 10,
   "id": "28399076-fe17-41bf-b6c3-0a1795559dec",
   "metadata": {},
   "outputs": [],
   "source": [
    "# Split data into X and y\n",
    "X = adjusted_data[\"Text\"]\n",
    "\n",
    "y = adjusted_data[\"IsToxic\"]"
   ]
  },
  {
   "cell_type": "code",
   "execution_count": 11,
   "id": "67e01842-b5e6-421e-b007-6a6bf9c72866",
   "metadata": {},
   "outputs": [],
   "source": [
    "X_train, X_test, y_train, y_test= train_test_split(X, y, test_size=0.2)   "
   ]
  },
  {
   "cell_type": "code",
   "execution_count": 12,
   "id": "d705732a-dcc9-46ba-a4c4-ef7ca5f963ea",
   "metadata": {},
   "outputs": [],
   "source": [
    "# Define parameters\n",
    "vocab_size = 10000\n",
    "oov_tok = '<OOV>'\n",
    "max_len = 50\n",
    "padding_type = 'post'\n",
    "truncate_type = 'post'"
   ]
  },
  {
   "cell_type": "code",
   "execution_count": 13,
   "id": "e7bc63b6-88ea-488e-b9d7-58b639aa53bd",
   "metadata": {},
   "outputs": [],
   "source": [
    "# Initialize Tokenizer\n",
    "tokenizer = Tokenizer(num_words=vocab_size, oov_token=oov_tok)\n",
    "tokenizer.fit_on_texts(X_train)\n"
   ]
  },
  {
   "cell_type": "code",
   "execution_count": null,
   "id": "3f6aa43a-5728-46f1-9970-7cf334daf1be",
   "metadata": {},
   "outputs": [],
   "source": []
  },
  {
   "cell_type": "code",
   "execution_count": 14,
   "id": "38837690-cdc8-4415-8de3-204416b71f2e",
   "metadata": {},
   "outputs": [],
   "source": [
    "# Convert text to sequences\n",
    "X_train_seq = tokenizer.texts_to_sequences(X_train)\n",
    "X_test_seq = tokenizer.texts_to_sequences(X_test)"
   ]
  },
  {
   "cell_type": "code",
   "execution_count": 15,
   "id": "9566f544-ed1c-4cda-ac6e-d721550ce04c",
   "metadata": {},
   "outputs": [],
   "source": [
    "# Pad sequences\n",
    "X_train_pad = pad_sequences(X_train_seq, maxlen=max_len, padding=padding_type, truncating=truncate_type)\n",
    "X_test_pad = pad_sequences(X_test_seq, maxlen=max_len, padding=padding_type, truncating=truncate_type)"
   ]
  },
  {
   "cell_type": "code",
   "execution_count": 16,
   "id": "cac4a106-4289-4330-976b-d9dce790ebe0",
   "metadata": {},
   "outputs": [],
   "source": [
    "np.random.seed(42)\n",
    "tf.random.set_seed(42)\n",
    "\n",
    "\n",
    "# Define model parameters\n",
    "embedding_dim = 100\n",
    "lstm_units = 64\n",
    "dropout_rate = 0.7\n",
    "num_classes = 1  # Assuming binary classification (toxic or non-toxic)\n",
    "\n",
    "\n",
    "model = tf.keras.models.Sequential([\n",
    "   Embedding(input_dim=vocab_size, output_dim=embedding_dim, input_length=max_len),\n",
    "    Bidirectional(LSTM(units=lstm_units, return_sequences=True)),\n",
    "    BatchNormalization(),\n",
    "    LSTM(units=lstm_units, kernel_regularizer=l2(0.01), dropout=dropout_rate),\n",
    "    BatchNormalization(),\n",
    "    Dense(units=num_classes, activation='sigmoid')\n",
    "])"
   ]
  },
  {
   "cell_type": "code",
   "execution_count": 17,
   "id": "773d78ec-69df-4d24-8b5c-bf7dbd446f6d",
   "metadata": {},
   "outputs": [],
   "source": [
    "model.compile(optimizer='adam',\n",
    "              loss='binary_crossentropy',\n",
    "              metrics=['accuracy'])"
   ]
  },
  {
   "cell_type": "code",
   "execution_count": 18,
   "id": "0a55c943-000e-4437-bce8-2604ebb87a48",
   "metadata": {},
   "outputs": [
    {
     "name": "stdout",
     "output_type": "stream",
     "text": [
      "Epoch 1/20\n",
      "23/23 [==============================] - 3s 53ms/step - loss: 2.3325 - accuracy: 0.5403 - val_loss: 2.0446 - val_accuracy: 0.5375\n",
      "Epoch 2/20\n",
      "23/23 [==============================] - 1s 38ms/step - loss: 1.9309 - accuracy: 0.5653 - val_loss: 1.7693 - val_accuracy: 0.5375\n",
      "Epoch 3/20\n",
      "23/23 [==============================] - 1s 40ms/step - loss: 1.6012 - accuracy: 0.6069 - val_loss: 1.5559 - val_accuracy: 0.5375\n",
      "Epoch 4/20\n",
      "23/23 [==============================] - 1s 40ms/step - loss: 1.3034 - accuracy: 0.6944 - val_loss: 1.3856 - val_accuracy: 0.5375\n",
      "Epoch 5/20\n",
      "23/23 [==============================] - 1s 41ms/step - loss: 1.0599 - accuracy: 0.7931 - val_loss: 1.2359 - val_accuracy: 0.6125\n",
      "Epoch 6/20\n",
      "23/23 [==============================] - 1s 42ms/step - loss: 0.8142 - accuracy: 0.8694 - val_loss: 1.1726 - val_accuracy: 0.5625\n",
      "Epoch 7/20\n",
      "23/23 [==============================] - 1s 40ms/step - loss: 0.6483 - accuracy: 0.9319 - val_loss: 1.0519 - val_accuracy: 0.6000\n",
      "Epoch 8/20\n",
      "23/23 [==============================] - 1s 41ms/step - loss: 0.4959 - accuracy: 0.9625 - val_loss: 1.0988 - val_accuracy: 0.5375\n",
      "Epoch 9/20\n",
      "23/23 [==============================] - 1s 43ms/step - loss: 0.4068 - accuracy: 0.9694 - val_loss: 0.9341 - val_accuracy: 0.6625\n",
      "Epoch 10/20\n",
      "23/23 [==============================] - 1s 42ms/step - loss: 0.3308 - accuracy: 0.9889 - val_loss: 1.0411 - val_accuracy: 0.6750\n",
      "Epoch 11/20\n",
      "23/23 [==============================] - 1s 42ms/step - loss: 0.2860 - accuracy: 0.9875 - val_loss: 1.1788 - val_accuracy: 0.6125\n",
      "Epoch 12/20\n",
      "23/23 [==============================] - 1s 42ms/step - loss: 0.2729 - accuracy: 0.9861 - val_loss: 0.9642 - val_accuracy: 0.6625\n"
     ]
    }
   ],
   "source": [
    "np.random.seed(42)\n",
    "tf.random.set_seed(42)\n",
    "\n",
    "early_stopping = EarlyStopping(monitor='val_loss', patience=3, restore_best_weights=True)\n",
    "history = model.fit(X_train_pad, y_train, epochs=20, batch_size=32, validation_split=0.1, callbacks=[early_stopping])"
   ]
  },
  {
   "cell_type": "code",
   "execution_count": 19,
   "id": "a3bef09f-94a2-4bb7-a544-a094cb410cca",
   "metadata": {},
   "outputs": [
    {
     "name": "stdout",
     "output_type": "stream",
     "text": [
      "7/7 [==============================] - 0s 11ms/step - loss: 0.9385 - accuracy: 0.7050\n",
      "Test Loss: 0.9385, Test Accuracy: 0.7050\n"
     ]
    }
   ],
   "source": [
    "loss, accuracy = model.evaluate(X_test_pad, y_test)\n",
    "print(f\"Test Loss: {loss:.4f}, Test Accuracy: {accuracy:.4f}\")"
   ]
  },
  {
   "cell_type": "code",
   "execution_count": 20,
   "id": "af192e7f-edba-46c1-b756-7eb5b2a76763",
   "metadata": {},
   "outputs": [
    {
     "name": "stdout",
     "output_type": "stream",
     "text": [
      "25/25 [==============================] - 0s 11ms/step - loss: 0.5376 - accuracy: 0.9438\n",
      "Train Loss: 0.5376, Train Accuracy: 0.9438\n"
     ]
    }
   ],
   "source": [
    "train_loss, train_accuracy = model.evaluate(X_train_pad, y_train)\n",
    "print(f\"Train Loss: {train_loss:.4f}, Train Accuracy: {train_accuracy:.4f}\")"
   ]
  },
  {
   "cell_type": "code",
   "execution_count": null,
   "id": "ec964fb4-b6ca-441e-b595-08fc23f55849",
   "metadata": {},
   "outputs": [],
   "source": []
  }
 ],
 "metadata": {
  "kernelspec": {
   "display_name": "Python 3 (ipykernel)",
   "language": "python",
   "name": "python3"
  },
  "language_info": {
   "codemirror_mode": {
    "name": "ipython",
    "version": 3
   },
   "file_extension": ".py",
   "mimetype": "text/x-python",
   "name": "python",
   "nbconvert_exporter": "python",
   "pygments_lexer": "ipython3",
   "version": "3.8.19"
  }
 },
 "nbformat": 4,
 "nbformat_minor": 5
}
