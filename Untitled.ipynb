{
 "cells": [
  {
   "cell_type": "code",
   "execution_count": 6,
   "id": "d6462714-d71e-4f27-babf-50586f88f6cd",
   "metadata": {},
   "outputs": [],
   "source": [
    "import joblib\n",
    "from tensorflow.keras.models import load_model"
   ]
  },
  {
   "cell_type": "code",
   "execution_count": 9,
   "id": "8d0479ef-dd61-4e77-b042-a6e9a2ee3174",
   "metadata": {},
   "outputs": [],
   "source": [
    "loaded_vect = joblib.load('tfidf_vectorizer.pkl')"
   ]
  },
  {
   "cell_type": "code",
   "execution_count": 11,
   "id": "62fd85e9-7c96-4c41-9117-a71b37ad10a3",
   "metadata": {},
   "outputs": [],
   "source": [
    "loaded_model = load_model('toxic_comment_model.h5')"
   ]
  },
  {
   "cell_type": "code",
   "execution_count": 32,
   "id": "9ee307ae-63f6-4990-9034-a93a106e419c",
   "metadata": {},
   "outputs": [],
   "source": [
    " new_comments = [\n",
    "     \"\",\n",
    "     \n",
    " ]\n"
   ]
  },
  {
   "cell_type": "code",
   "execution_count": 33,
   "id": "af8790af-624c-4f59-9166-4aec474ee428",
   "metadata": {},
   "outputs": [
    {
     "name": "stdout",
     "output_type": "stream",
     "text": [
      "1/1 [==============================] - 0s 14ms/step\n",
      "Comment: nigalimation | Toxic: True\n"
     ]
    }
   ],
   "source": [
    " # Preprocess new comments using the loaded TF-IDF Vectorizer\n",
    "new_comments_tfidf = loaded_vect.transform(new_comments)\n",
    "\n",
    " # Predict using the loaded model\n",
    " predictions = (loaded_model.predict(new_comments_tfidf.toarray()) > 0.5).astype(int)\n",
    "\n",
    " # Print predictions\n",
    " for comment, prediction in zip(new_comments, predictions):\n",
    "     print(f'Comment: {comment} | Toxic: {bool(prediction)}')"
   ]
  },
  {
   "cell_type": "code",
   "execution_count": null,
   "id": "beee5ad6-4123-48af-b64d-70f0f30cfa71",
   "metadata": {},
   "outputs": [],
   "source": []
  }
 ],
 "metadata": {
  "kernelspec": {
   "display_name": "Python 3 (ipykernel)",
   "language": "python",
   "name": "python3"
  },
  "language_info": {
   "codemirror_mode": {
    "name": "ipython",
    "version": 3
   },
   "file_extension": ".py",
   "mimetype": "text/x-python",
   "name": "python",
   "nbconvert_exporter": "python",
   "pygments_lexer": "ipython3",
   "version": "3.8.19"
  }
 },
 "nbformat": 4,
 "nbformat_minor": 5
}
